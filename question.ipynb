{
 "cells": [
  {
   "cell_type": "markdown",
   "metadata": {},
   "source": [
    "<h1 style=\"text-align: center; color: #2a9d8f; font-size: 48px;\">📊 Báo cáo Cuối Kỳ 🌟</h1>\n",
    "<h2 style=\"text-align: center; color: #264653; font-size: 36px;\">📈 Trực Quan Hóa Dữ Liệu 📉</h2>\n",
    "<hr style=\"border: 2px solid #e76f51; margin: 20px 0;\">\n",
    "<p style=\"text-align: center; font-size: 24px; color: #1d3557;\">\n",
    "  Chủ đề: Dân số, Nông nghiệp, Y tế Giáo dục, Giao thông Vận tải 🚜🏥📚🚦\n",
    "</p>\n",
    "<p style=\"text-align: center; font-size: 20px; color: #1d3557;\">\n",
    "  <strong>Câu hỏi khai thác dữ liệu:</strong> Làm thế nào để cải thiện hiệu quả phân bổ tài nguyên và tối ưu hóa chính sách?\n",
    "</p>\n",
    "<p style=\"text-align: center; font-size: 20px; color: #1d3557;\">\n",
    "  <strong>Giảng viên hướng dẫn:</strong> TS. Bùi Tiến Lên\n",
    "</p>\n"
   ]
  },
  {
   "cell_type": "markdown",
   "metadata": {},
   "source": [
    "<h2 style=\"text-align: left; color: #2a9d8f; font-size: 40px; font-weight: bold;\">📑 Mục lục</h2>\n",
    "<ul style=\"font-size: 25px; color: #1d3557; list-style-type: none; padding-left: 20px;\">\n",
    "    <li style=\"margin: 10px 0;\">\n",
    "        <a href=\"#nongnghiep\" style=\"color: #1d3557; text-decoration: none;\">\n",
    "            <strong>🌾 Nông nghiệp</strong>\n",
    "        </a>\n",
    "    </li>\n",
    "    <li style=\"margin: 10px 0;\">\n",
    "        <a href=\"#Population\" style=\"color: #1d3557; text-decoration: none;\">\n",
    "            <strong>👨‍👩‍👧‍👦 Dân số</strong>\n",
    "        </a>\n",
    "    </li>\n",
    "    <li style=\"margin: 10px 0;\">\n",
    "        <a href=\"#MedicalEducation\" style=\"color: #1d3557; text-decoration: none;\">\n",
    "            <strong>🏥 Y tế, Giáo dục 🎓</strong>\n",
    "        </a>\n",
    "    </li>\n",
    "    <li style=\"margin: 10px 0;\">\n",
    "        <a href=\"#Transportation\" style=\"color: #1d3557; text-decoration: none;\">\n",
    "            <strong>🚗 Giao thông vận tải</strong>\n",
    "        </a>\n",
    "    </li>\n",
    "</ul>\n"
   ]
  },
  {
   "cell_type": "markdown",
   "metadata": {},
   "source": [
    "<h3 id=\"nongnghiep\" style=\"color: #e76f51; font-size: 40px;\">🌾 Nông nghiệp</h3>"
   ]
  },
  {
   "cell_type": "markdown",
   "metadata": {},
   "source": [
    "![Alt Text](Image/Sample.png)\n"
   ]
  },
  {
   "cell_type": "markdown",
   "metadata": {},
   "source": [
    "Nhận xét, kể chuyện ...\n"
   ]
  },
  {
   "cell_type": "markdown",
   "metadata": {
    "vscode": {
     "languageId": "plaintext"
    }
   },
   "source": [
    "## 1. Heatmap cho rank của các vùng (số lượng trang trại) theo từng giai đoạn\n",
    "\n",
    "### Biểu đồ\n",
    "\n",
    "<img src=\"./Image/1.png\" alt=\"Hình ảnh mẫu\" style=\"width: 80%;\">\n",
    "\n",
    "### Nhận xét:\n",
    "\n",
    "**Đồng bằng sông Cửu Long từ giai đoạn 2000 - 2015 luôn dẫn đầu cả nước về số lượng trang trại**\n",
    "\n",
    "Lí do:\n",
    "\n",
    "- ĐBSCL là vùng đất phù sa màu mỡ, , ngoài ra còn có hệ thống sông ngòi và kênh rạch dày đặc, cung cấp nguồn nước dồi dào, tạo điều kiện thuận lợi cho nông nghiệp và nuôi trồng thủy sản\n",
    "\n",
    "- Nông sản của ĐBSCL chiếm tỷ trọng lớn trong xuất khẩu của Việt Nam, đặc biệt là gạo, thủy sản, trái cây. Điều này thúc đẩy phát triển các mô hình sản xuất quy mô lớn như trang trại để đáp ứng nhu cầu gia tăng của thị trường thay vì các mô hình quy mô nhỏ như Hộ nông dân tự canh tác, Nuôi trồng thủy sản nhỏ lẻ, Chăn nuôi nhỏ lẻ, …\n",
    "\n",
    "- Thu nhập từ các mô hình trang trại quy mô lớn cao hơn so với sản xuất nhỏ lẻ, khuyến khích người dân chuyển đổi mô hình canh tác\n",
    "\n",
    "- ĐBSCL có quỹ đất nông nghiệp lớn nhất cả nước, thuận lợi cho việc phát triển các trang trại quy mô lớn.\n",
    "\n",
    "**Nhưng sang đến giai đoạn 2016 - 2022, đồng bằng sông Hồng lại vươn lên dẫn đầu cả nước**\n",
    "\n",
    "Lí do:\n",
    "\n",
    "- Đồng bằng sông Hồng, với diện tích đất hạn chế hơn so với ĐBSCL, đã áp dụng mô hình tập trung hóa đất đai bằng cách thuê hoặc gom đất để phát triển trang trại với quy mô lớn\n",
    "\n",
    "- ĐBSH đã chuyển đổi từ canh tác nhỏ lẻ sang mô hình trang trại áp dụng công nghệ cao, hiện đại hóa sản xuất và nâng cao giá trị kinh tế trên mỗi đơn vị diện tích đất.\n",
    "- Hệ thống giao thông, thủy lợi, và điện lưới ở ĐBSH đã được cải thiện, tạo điều kiện thuận lợi cho việc mở rộng và quản lý các trang trại.\n",
    "- Trong khi ĐBSH được đầu tư và phát triển mạnh, ĐBSCL phải đối mặt với nhiều thách thức từ biến đổi khí hậu như nước biển dâng, xâm nhập mặn, và thiếu nước ngọt. Điều này đã làm giảm tốc độ mở rộng và hiệu quả hoạt động của các trang trại tại ĐBSCL.\n",
    "\n",
    "**Tây Bắc Bộ luôn xếp vị trí cuối cùng trong giai đoạn 2000 - 2022**\n",
    "\n",
    "Lí do:\n",
    "\n",
    "- Tây Bắc Bộ có địa hình đồi núi chiếm phần lớn diện tích, gây khó khăn trong việc tập trung hóa đất đai để phát triển các mô hình trang trại quy mô lớn.\n",
    "\n",
    "- Hạ tầng giao thông, thủy lợi, và hệ thống điện ở Tây Bắc Bộ phát triển chậm, gây khó khăn cho việc xây dựng và vận hành các trang trại.\n",
    "\n",
    "- Tây Bắc Bộ có khí hậu khắc nghiệt, mùa đông lạnh kéo dài và mùa hè có mưa lớn dễ gây lũ lụt hoặc sạt lở đất. Điều này ảnh hưởng đến hoạt động chăn nuôi, trồng trọt quy mô lớn.\n",
    "\n",
    "- Phần lớn đất canh tác ở Tây Bắc Bộ thuộc sở hữu hộ gia đình hoặc cộng đồng dân tộc, với diện tích nhỏ lẻ và manh mún. Điều này gây khó khăn cho việc tập trung đất để xây dựng trang trại.\n",
    "\n",
    "- Khu vực này cách xa các trung tâm kinh tế lớn, do đó thị trường khan hiếm, khiến việc tiêu thụ nông sản khó khăn và chi phí vận chuyển cao, làm giảm hiệu quả kinh tế của các trang trại,\n"
   ]
  },
  {
   "cell_type": "markdown",
   "metadata": {},
   "source": [
    "## 2. Tỉ trọng sản lượng lúa, ngô, khoai lang ở các miền thay đổi theo thời gian như thế nào\n",
    "\n",
    "### Sản lượng lúa\n",
    "\n",
    "#### Biểu đồ\n",
    "\n",
    "<img src=\"./Image/2_lua.png\" alt=\"Hình ảnh mẫu\" style=\"width: 80%;\">\n",
    "\n",
    "#### Nhận xét\n",
    "\n",
    "**Nam Bộ dẫn đầu về tỉ trọng qua các giai đoạn**\n",
    "\n",
    "Lí do:\n",
    "\n",
    "- **Đất phù sa màu mỡ:** Đồng bằng sông Cửu Long (ĐBSCL) – khu vực trọng điểm của Nam Bộ – là vùng đất phù sa được bồi đắp hàng năm, rất phù hợp cho canh tác lúa.\n",
    "\n",
    "- **Nguồn nước dồi dào:** Hệ thống sông Mekong và mạng lưới kênh rạch chằng chịt cung cấp nguồn nước tưới phong phú, đặc biệt là vào mùa khô.\n",
    "\n",
    "- **Diện tích đất nông nghiệp lớn nhất cả nước:** ĐBSCL chiếm phần lớn diện tích đất canh tác lúa của Nam Bộ, với hàng triệu hecta dành riêng cho sản xuất lúa.\n",
    "\n",
    "- **Sản xuất tập trung:** Nhiều địa phương như An Giang, Kiên Giang, Đồng Tháp đã hình thành vùng chuyên canh lúa quy mô lớn, giúp tối ưu hóa sản lượng\n",
    "\n",
    "- **Cơ hội thị trường lớn:** Nhu cầu gạo trong nước và quốc tế ngày càng tăng, đặc biệt từ các thị trường lớn như Trung Quốc, Philippines, và châu Phi, đã thúc đẩy Nam Bộ sản xuất lúa gạo với quy mô lớn.\n",
    "\n",
    "- **Giao thông và cảng biển thuận lợi:** Nam Bộ có các cảng lớn như Cần Thơ và TP.HCM, thuận tiện cho việc vận chuyển lúa gạo đến thị trường trong và ngoài nước.\n",
    "\n",
    "Từ đó có thể thấy Nam Bộ không chỉ là \"vựa lúa\" của Việt Nam mà còn giữ vai trò quan trọng trong xuất khẩu gạo quốc tế, góp phần bảo đảm an ninh lương thực và phát triển kinh tế của cả nước.\n"
   ]
  },
  {
   "cell_type": "markdown",
   "metadata": {},
   "source": [
    "### Sản lượng ngô\n",
    "\n",
    "#### Biểu đồ\n",
    "\n",
    "<img src=\"./Image/2_ngo.png\" alt=\"Hình ảnh mẫu\" style=\"width: 80%;\">\n",
    "\n",
    "#### Nhận xét\n",
    "\n",
    "**Bắc Bộ và Trung Bộ có tỉ trọng gần bằng nhau trong giai đoạn 2000 - 2022, Nam Bộ chỉ chiếm tỉ trọng nhỏ, cụ thể trong giai đoạn 2020 - 2022, tỉ trọng của Bắc Bộ và Trung Bộ lần lượt là 45% và 43% còn Nam Bộ là 12%**\n",
    "\n",
    "Lí do:\n",
    "\n",
    "**Điều kiện tự nhiên phù hợp cho cây ngô:**\n",
    "\n",
    "- Bắc Bộ và Trung Bộ:\n",
    "     - Đất đai: Các vùng đất đồi, đất pha cát ở Bắc Bộ (như miền núi phía Bắc) và Trung Bộ (như Tây Nguyên, duyên hải Nam Trung Bộ) thích hợp để trồng ngô.\n",
    "     - Khí hậu: Ngô là cây ưa ánh sáng và có khả năng chịu hạn tốt, phù hợp với khí hậu khô hạn ở Trung Bộ và các vùng trung du miền núi phía Bắc.\n",
    "     - Địa hình đồi núi: Nhiều vùng đồi núi khó canh tác lúa, người dân chuyển sang trồng ngô để tận dụng đất.\n",
    "- Nam Bộ:\n",
    "     - Đất phù sa và hệ thống thủy lợi ở Nam Bộ ưu tiên canh tác lúa, vốn mang lại năng suất và giá trị kinh tế cao hơn. Điều này khiến ngô không phải là cây trồng chủ lực tại khu vực này.\n",
    "\n",
    "**Vai trò của cây ngô trong hệ thống canh tác:**\n",
    "\n",
    "- Bắc Bộ và Trung Bộ:\n",
    "     - Ngô là cây trồng chính trong hệ thống canh tác nương rẫy ở miền núi và trung du.\n",
    "     - Người dân trồng ngô xen kẽ với các cây trồng khác để tận dụng đất và thời vụ, nhất là ở Tây Nguyên và vùng trung du Bắc Bộ.\n",
    "- Nam Bộ:\n",
    "     - Nhu cầu đất dành cho lúa gạo, cây ăn trái và nuôi trồng thủy sản lớn hơn, khiến diện tích trồng ngô bị thu hẹp.\n"
   ]
  },
  {
   "cell_type": "markdown",
   "metadata": {},
   "source": [
    "### Sản lượng khoai lang\n",
    "\n",
    "#### Biểu đồ\n",
    "\n",
    "<img src=\"./Image/2_kl.png\" alt=\"Hình ảnh mẫu\" style=\"width: 80%;\">\n",
    "\n",
    "#### Nhận xét\n",
    "\n",
    "**Bắc Bộ có xu hướng giảm tỉ trọng (2000 - 2003: 48% đến 2020-2022: 27%)**\n",
    "\n",
    "**Nam Bộ có xu hướng tăng tỉ trọng (2000 - 2003: 12% đến 2020-2022: 30%)**\n",
    "\n",
    "Lí do:\n",
    "\n",
    "**Bắc Bộ có xu hướng giảm tỉ trọng**\n",
    "\n",
    "- Chuyển đổi cơ cấu cây trồng: Nông dân Bắc Bộ đã chuyển dần diện tích trồng khoai lang sang trồng các loại cây trồng khác có giá trị kinh tế cao hơn, như rau màu, hoa quả, và cây công nghiệp ngắn ngày.\n",
    "- Biến đổi khí hậu: Bắc Bộ thường xuyên chịu ảnh hưởng của thời tiết cực đoan, như mưa lớn và lạnh kéo dài, gây khó khăn cho việc trồng khoai lang – vốn là cây ưa đất khô ráo và nắng ấm.\n",
    "- Thiếu liên kết sản xuất và thị trường: Việc tiêu thụ khoai lang ở Bắc Bộ chủ yếu ở dạng thô, thiếu chế biến sâu, dẫn đến giá trị kinh tế thấp và không đủ sức cạnh tranh với các loại cây trồng khác.\n",
    "\n",
    "**Nam Bộ có xu hướng tăng tỉ trọng:**\n",
    "\n",
    "- Phát triển vùng chuyên canh khoai lang: Nam Bộ, đặc biệt là Đồng Tháp và Vĩnh Long, đã phát triển các vùng chuyên canh khoai lang lớn, như giống khoai lang tím Nhật – một sản phẩm có giá trị cao trên thị trường nội địa và xuất khẩu.\n",
    "- Nhu cầu xuất khẩu tăng: Khoai lang ở Nam Bộ, đặc biệt giống khoai lang tím Nhật, được xuất khẩu sang các thị trường lớn như Nhật Bản, Hàn Quốc, và Trung Quốc, thúc đẩy sản lượng và diện tích trồng tăng mạnh.\n"
   ]
  },
  {
   "cell_type": "markdown",
   "metadata": {},
   "source": [
    "## 3. So sánh sản lượng lúa, ngô, khoai lang trước dịch 2017 - 2019 và trong dịch 2020 - 2022 ở các vùng\n",
    "\n",
    "### Biểu đồ\n",
    "\n",
    "<img src=\"./Image/3.png\" alt=\"Hình ảnh mẫu\" style=\"width: 80%;\">\n",
    "\n",
    "### Nhận xét\n",
    "\n",
    "- Nhìn chung ở cả 3 loại lương thực, thì sản lượng trước dịch 2017 - 2019 và trong dịch 2020 - 2022 ở cả 8 vùng có xu hướng ổn định, không giảm sâu như dự đoán\n",
    "\n",
    "- Mặc dù trong điều kiện đại dịch, hạn chế di chuyển nhưng việc sản xuất các loại lương thực này vẫn phải được tiếp tục để đảm bảo an ninh lương thực cho cả nước, đặc biệt là lúa\n",
    "\n",
    "- Điều này cho thấy những nỗ lực tuyệt vời trong phòng chống dịch của Việt Nam nhằm cân bằng giữa sản xuất lương thực và công tác chống dịch nhằm duy trì sản xuất lương thực trong những điều kiện dù là khó khăn nhất\n"
   ]
  },
  {
   "cell_type": "markdown",
   "metadata": {},
   "source": [
    "## 4. Biểu đồ Scatter Plot: Quan hệ giữa diện tích nuôi trồng thủy sản và sản lượng thủy sản\n",
    "\n",
    "### Biểu đồ\n",
    "\n",
    "<img src=\"./Image/4.png\" alt=\"Hình ảnh mẫu\" style=\"width: 80%;\">\n",
    "\n",
    "### Nhận xét\n",
    "\n",
    "**Biểu đồ cho thấy mối quan hệ tỉ lệ thuận giữa diện tích nuôi trồng thủy sản và sản lượng thủy sản, khi diện tích nuôi trồng thủy sản tăng thì sản lượng thủy sản có xu hướng tăng**\n",
    "\n",
    "**Với các giá trị diện tích nuôi trồng thủy sản 35,000 ha trở lên, chỉ có các điểm màu cam (thuộc về Nam Bộ)**\n",
    "\n",
    "Lí do:\n",
    "\n",
    "- Hệ thống sông ngòi, kênh rạch chằng chịt: Nam Bộ, đặc biệt là Đồng bằng sông Cửu Long (ĐBSCL), được bao phủ bởi mạng lưới sông ngòi dày đặc, gồm các nhánh của sông Mekong và hệ thống kênh rạch tự nhiên. Đây là nguồn nước lý tưởng cho nuôi trồng thủy sản.\n",
    "\n",
    "- Đất phù hợp:\n",
    "\n",
    "     - Đất phù sa và đất ngập nước ở ĐBSCL rất thích hợp cho việc xây dựng ao, hồ, và đồng ruộng để nuôi thủy sản.\n",
    "     - Các vùng nước lợ ở ven biển Nam Bộ là môi trường lý tưởng để nuôi các loài thủy sản có giá trị kinh tế cao như tôm, cua, và cá.\n",
    "\n",
    "- Khí hậu ổn định: Nam Bộ có khí hậu nhiệt đới gió mùa, ấm áp quanh năm, không có mùa đông lạnh như Bắc Bộ. Điều này giúp nuôi trồng thủy sản diễn ra quanh năm, tối ưu hóa sản lượng.\n",
    "\n",
    "- Đường bờ biển dài: Nam Bộ có bờ biển dài hơn 700 km, với nhiều khu vực ven biển thuận lợi cho nuôi trồng thủy sản nước mặn và nước lợ.\n"
   ]
  },
  {
   "cell_type": "markdown",
   "metadata": {},
   "source": [
    "## 5. Biểu đồ Treemap: Cơ cấu sản lượng trồng cây nông nghiệp giữa các tỉnh\n",
    "\n",
    "### Sản lượng lúa năm 2022\n",
    "\n",
    "#### Biểu đồ\n",
    "\n",
    "<img src=\"./Image/5_lua.png\" alt=\"Hình ảnh mẫu\" style=\"width: 80%;\">\n",
    "\n",
    "#### Nhận xét\n",
    "\n",
    "**Kiên Giang dẫn đầu cả nước với 4,41 triệu tấn**\n",
    "\n",
    "Lí do:\n",
    "\n",
    "- Diện tích canh tác lúa rộng lớn:\n",
    "\n",
    "     - Kiên Giang có diện tích trồng lúa lớn nhất cả nước với hàng triệu hecta, đặc biệt tập trung ở các vùng trọng điểm như Tứ giác Long Xuyên, U Minh Thượng và ven biển Kiên Giang.\n",
    "     - Quy mô đất canh tác lúa rộng giúp tỉnh đạt được sản lượng cao.\n",
    "\n",
    "- Đất đai màu mỡ: Kiên Giang nằm trong vùng Đồng bằng sông Cửu Long (ĐBSCL), được bồi đắp phù sa hàng năm từ hệ thống sông Mekong, rất phù hợp cho canh tác lúa.\n",
    "- Nguồn nước dồi dào: Hệ thống sông ngòi và kênh rạch chằng chịt cùng với các công trình thủy lợi giúp cung cấp nguồn nước tưới tiêu ổn định, ngay cả trong mùa khô.\n",
    "- Khí hậu ổn định: Khí hậu nhiệt đới ôn hòa của Kiên Giang, với nhiệt độ trung bình cao và ít chịu ảnh hưởng của thiên tai, là điều kiện lý tưởng để sản xuất lúa 2–3 vụ mỗi năm\n",
    "- Kiên Giang đã áp dụng các giống lúa có năng suất cao, chất lượng tốt và chống chịu sâu bệnh, phù hợp với điều kiện đất đai và khí hậu địa phương.\n",
    "- Các doanh nghiệp thu mua, chế biến và xuất khẩu lúa gạo có liên kết chặt chẽ với nông dân, đảm bảo đầu ra ổn định, thúc đẩy sản xuất lúa gạo quy mô lớn.\n",
    "- Kiên Giang đã triển khai các mô hình cánh đồng mẫu lớn, với diện tích tập trung, giúp đồng bộ hóa kỹ thuật canh tác, giảm chi phí và tăng năng suất.\n"
   ]
  },
  {
   "cell_type": "markdown",
   "metadata": {},
   "source": [
    "### Sản lượng ngô năm 2022\n",
    "\n",
    "#### Biểu đồ\n",
    "\n",
    "<img src=\"./Image/5_ngo.png\" alt=\"Hình ảnh mẫu\" style=\"width: 80%;\">\n",
    "\n",
    "### Sản lượng khoai lang năm 2022\n",
    "\n",
    "#### Biểu đồ\n",
    "\n",
    "<img src=\"./Image/5_kl.png\" alt=\"Hình ảnh mẫu\" style=\"width: 80%;\">\n",
    "\n",
    "#### **Nhận xét cho cả ngô và khoai lang**\n",
    "\n",
    "- Đắk Lak dẫn đầu cả nước với lần lượt là 0.5 triệu tấn (**ngô**) và 0.14 triệu tấn (**khoai lang**)\n",
    "\n",
    "**Lí do:**\n",
    "\n",
    "- **Đối với ngô:**\n",
    "\n",
    "    - Đất đỏ bazan màu mỡ: Đắk Lắk có diện tích đất đỏ bazan lớn, rất giàu dinh dưỡng và thoát nước tốt, là môi trường lý tưởng cho cây ngô phát triển.\n",
    "    - Khí hậu phù hợp: Khí hậu Tây Nguyên có hai mùa rõ rệt (mùa mưa và mùa khô) với nhiệt độ ổn định, thuận lợi cho ngô phát triển trong các vụ khác nhau.\n",
    "\n",
    "- **Đối với khoai lang:**\n",
    "\n",
    "    - Đất pha cát và đất xốp: Đắk Lắk có nhiều vùng đất phù hợp cho khoai lang, đặc biệt là đất pha cát và đất đỏ, giúp củ khoai phát triển to, đều và chất lượng cao.\n",
    "    - Khả năng chịu hạn: Cả ngô và khoai lang đều là cây trồng chịu hạn tốt, thích hợp với mùa khô kéo dài ở Đắk Lắk.\n",
    "\n",
    "- **Thị trường tiêu thụ lớn và ổn định:**\n",
    "\n",
    "    - Nhu cầu ngô làm thức ăn chăn nuôi: Ngô của Đắk Lắk được tiêu thụ mạnh bởi các nhà máy chế biến thức ăn chăn nuôi ở khu vực miền Trung và miền Nam.\n",
    "    - Xuất khẩu khoai lang: Khoai lang Đắk Lắk, đặc biệt giống khoai tím Nhật, có giá trị cao và được xuất khẩu sang các thị trường lớn như Nhật Bản, Hàn Quốc và Trung Quốc.\n"
   ]
  },
  {
   "cell_type": "markdown",
   "metadata": {},
   "source": [
    "<h3 id=\"Population\" style=\"color: #e76f51; font-size: 40px;\">👨‍👩‍👧‍👦 Dân số</h3>\n"
   ]
  },
  {
   "cell_type": "markdown",
   "metadata": {},
   "source": [
    "![Alt Text](image_path_or_url)\n"
   ]
  },
  {
   "cell_type": "markdown",
   "metadata": {},
   "source": [
    "<h3 id=\"MedicalEducation\" style=\"color: #e76f51; font-size: 40px;\">🏥 Y tế, Giáo dục 🎓</h3>"
   ]
  },
  {
   "cell_type": "markdown",
   "metadata": {},
   "source": [
    "<h3 id=\"Transportation\" style=\"color: #e76f51; font-size: 40px;\">🚗 Giao thông vận tải</h3>"
   ]
  },
  {
   "cell_type": "markdown",
   "metadata": {},
   "source": [
    "## 1. Tình hình vận chuyển khách trong từng tỉnh"
   ]
  },
  {
   "cell_type": "markdown",
   "metadata": {},
   "source": [
    "### Biểu đồ\n",
    "<img src=\"./Image/41.png\" alt=\"Hình ảnh mẫu\" style=\"width: 80%;\">\n",
    "\n",
    "### Nhận xét\n",
    "\n",
    "**Tỉnh Quảng Ninh có tỷ lệ lượt vận chuyển hành khách cao nhất, đạt mức 0.4018.**\n",
    "\n",
    "**Lý do:**\n",
    "\n",
    "- **Lợi thế địa lý:**\n",
    "  - Quảng Ninh nằm trong khu vực cửa ngõ phía Bắc, là điểm kết nối giữa Việt Nam và Trung Quốc, thuận lợi cho giao thông quốc tế và nội địa.\n",
    "  - Hạ Long – trung tâm du lịch nổi tiếng của Quảng Ninh – thu hút hàng triệu du khách mỗi năm, làm tăng nhu cầu vận chuyển hành khách.\n",
    "\n",
    "- **Hệ thống giao thông phát triển:**\n",
    "  - Cơ sở hạ tầng giao thông hiện đại, bao gồm cảng hàng không Vân Đồn, các cảng biển lớn và đường cao tốc kết nối với Hà Nội, Hải Phòng.\n",
    "  - Các tuyến xe khách liên tỉnh, nội tỉnh và quốc tế hoạt động mạnh mẽ.\n",
    "\n",
    "- **Du lịch và dịch vụ:**\n",
    "  - Quảng Ninh là trung tâm du lịch lớn với các địa điểm nổi tiếng như vịnh Hạ Long, khu di tích Yên Tử, thu hút cả khách nội địa và quốc tế.\n",
    "  - Các dịch vụ vận chuyển du lịch được đầu tư mạnh, với các loại hình vận chuyển như tàu cao tốc, du thuyền, và xe du lịch.\n",
    "\n",
    "- **Dân cư và kinh tế:**\n",
    "  - Dân số đông và nền kinh tế phát triển thúc đẩy nhu cầu vận chuyển, nhất là với các hoạt động kinh doanh và giao lưu văn hóa.\n",
    "\n",
    "**Phân bố tỷ lệ vận chuyển hành khách trên cả nước:**\n",
    "- Các tỉnh ven biển, đặc biệt khu vực miền Trung và miền Bắc, có tỷ lệ vận chuyển cao nhờ vào lợi thế du lịch và giao thương.\n",
    "- Một số tỉnh miền núi phía Bắc và Tây Nguyên có tỷ lệ thấp hơn do địa hình phức tạp và cơ sở hạ tầng giao thông hạn chế.\n",
    "\n"
   ]
  },
  {
   "cell_type": "markdown",
   "metadata": {},
   "source": [
    "# 2. Phân bố lượt luân chuyển khối lượng hàng hóa trong từng tỉnh"
   ]
  },
  {
   "cell_type": "markdown",
   "metadata": {},
   "source": [
    "### Biểu đồ\n",
    "<img src=\"./Image/42.png\" alt=\"Hình ảnh mẫu\" style=\"width: 80%;\">\n",
    "### Nhận xét\n",
    "### Nhận xét\n",
    "\n",
    "**Thành phố Hải Phòng dẫn đầu cả nước về khối lượng luân chuyển hàng hóa, đạt mức cao nhất trên bản đồ.**\n",
    "\n",
    "**Lý do:**\n",
    "\n",
    "- **Vị trí chiến lược:**\n",
    "  - Hải Phòng là cửa ngõ giao thương quan trọng phía Bắc, có cảng biển lớn nhất khu vực, kết nối trực tiếp với các tuyến hàng hải quốc tế.\n",
    "  - Nằm gần các khu vực kinh tế trọng điểm như Hà Nội, Quảng Ninh và các tỉnh đồng bằng sông Hồng.\n",
    "\n",
    "- **Cơ sở hạ tầng hiện đại:**\n",
    "  - Hệ thống cảng biển hiện đại như cảng Lạch Huyện và cảng Đình Vũ, có khả năng tiếp nhận tàu hàng lớn.\n",
    "  - Hạ tầng giao thông đồng bộ, bao gồm đường bộ, đường sắt, và sân bay, giúp thúc đẩy vận chuyển hàng hóa nhanh chóng.\n",
    "\n",
    "- **Hoạt động công nghiệp và thương mại phát triển:**\n",
    "  - Hải Phòng có nhiều khu công nghiệp lớn như Đình Vũ - Cát Hải, Tràng Duệ, thu hút nhiều doanh nghiệp sản xuất và xuất khẩu.\n",
    "  - Khối lượng hàng hóa từ các khu công nghiệp và các nhà máy xuất khẩu tập trung lớn tại khu vực này.\n",
    "\n",
    "- **Hỗ trợ chính sách và đầu tư:**\n",
    "  - Chính quyền thành phố đã tập trung đầu tư và thu hút nguồn vốn vào cơ sở hạ tầng logistics.\n",
    "  - Hải Phòng có các chính sách khuyến khích và hỗ trợ doanh nghiệp vận chuyển hàng hóa xuất nhập khẩu.\n",
    "\n",
    "**Phân bố khối lượng hàng hóa trên cả nước:**\n",
    "- Các tỉnh ven biển như Hải Phòng, Quảng Ninh, và Bà Rịa - Vũng Tàu có khối lượng luân chuyển hàng hóa cao nhờ cảng biển lớn và hoạt động thương mại quốc tế sôi động.\n",
    "- Các tỉnh miền núi và nội địa có khối lượng thấp hơn do hạn chế về cơ sở hạ tầng và nhu cầu vận chuyển."
   ]
  },
  {
   "cell_type": "markdown",
   "metadata": {},
   "source": [
    "# 3. Tình hình phát triển giao thông vận tải tại ba khu vực Việt Nam"
   ]
  },
  {
   "cell_type": "markdown",
   "metadata": {},
   "source": [
    "### Biểu đồ\n",
    "<img src=\"./Image/43.png\" alt=\"Hình ảnh mẫu\" style=\"width: 80%;\">\n",
    "\n",
    "#### Nhận xét\n",
    "\n",
    "**Bắc Bộ có mức tăng trưởng ấn tượng về khối lượng luân chuyển và vận chuyển hàng hóa, dẫn đầu cả nước.**  \n",
    "\n",
    "**Lý do:**  \n",
    "\n",
    "- **Vị trí địa lý chiến lược:**  \n",
    "  - Bắc Bộ là trung tâm kinh tế, chính trị lớn của cả nước, đặc biệt với Hà Nội là thủ đô và Hải Phòng là cửa ngõ giao thương quốc tế.  \n",
    "  - Kết nối dễ dàng với các vùng kinh tế trọng điểm như đồng bằng sông Hồng và Đông Bắc.  \n",
    "\n",
    "- **Cơ sở hạ tầng hiện đại:**  \n",
    "  - Hệ thống cảng biển lớn như cảng Hải Phòng và cảng Cái Lân giúp thúc đẩy vận chuyển hàng hóa quốc tế.  \n",
    "  - Hạ tầng giao thông đồng bộ, bao gồm đường bộ, đường sắt và các tuyến cao tốc trọng yếu kết nối toàn khu vực.  \n",
    "\n",
    "- **Hoạt động công nghiệp phát triển:**  \n",
    "  - Bắc Bộ tập trung nhiều khu công nghiệp lớn như Quang Minh, Bắc Ninh, và Thái Nguyên, góp phần gia tăng khối lượng hàng hóa luân chuyển.  \n",
    "  - Các sản phẩm xuất khẩu chủ yếu từ khu vực này bao gồm điện tử, máy móc và hàng tiêu dùng.  \n",
    "\n",
    "- **Chính sách hỗ trợ:**  \n",
    "  - Chính quyền địa phương và trung ương đã chú trọng đầu tư vào các dự án logistics và giao thông vận tải.  \n",
    "\n",
    "**Phân bố khối lượng hàng hóa trên cả nước:**  \n",
    "- Miền Bắc có khối lượng hàng hóa luân chuyển cao nhất, nhờ vào cảng biển và hạ tầng đồng bộ.  \n",
    "- Miền Nam tập trung vào vận chuyển nội địa và xuất khẩu, đặc biệt qua các cảng tại TP. Hồ Chí Minh và Bà Rịa - Vũng Tàu.  \n",
    "- Miền Trung có khối lượng hàng hóa thấp hơn, nhưng vẫn đóng vai trò quan trọng trong luân chuyển hàng hóa giữa Bắc và Nam.  "
   ]
  }
 ],
 "metadata": {
  "kernelspec": {
   "display_name": "Python 3",
   "language": "python",
   "name": "python3"
  },
  "language_info": {
   "codemirror_mode": {
    "name": "ipython",
    "version": 3
   },
   "file_extension": ".py",
   "mimetype": "text/x-python",
   "name": "python",
   "nbconvert_exporter": "python",
   "pygments_lexer": "ipython3",
   "version": "3.12.5"
  }
 },
 "nbformat": 4,
 "nbformat_minor": 2
}
