{
 "cells": [
  {
   "cell_type": "markdown",
   "metadata": {},
   "source": [
    "<h1 style=\"text-align: center; color: #2a9d8f; font-size: 48px;\">📊 Báo cáo Cuối Kỳ 🌟</h1>\n",
    "<h2 style=\"text-align: center; color: #264653; font-size: 36px;\">📈 Trực Quan Hóa Dữ Liệu 📉</h2>\n",
    "<hr style=\"border: 2px solid #e76f51; margin: 20px 0;\">\n",
    "<p style=\"text-align: center; font-size: 24px; color: #1d3557;\">\n",
    "  Chủ đề: Dân số, Nông nghiệp, Y tế Giáo dục, Giao thông Vận tải 🚜🏥📚🚦\n",
    "</p>\n",
    "<p style=\"text-align: center; font-size: 20px; color: #1d3557;\">\n",
    "  <strong>Câu hỏi khai thác dữ liệu:</strong> Làm thế nào để cải thiện hiệu quả phân bổ tài nguyên và tối ưu hóa chính sách?\n",
    "</p>\n",
    "<p style=\"text-align: center; font-size: 20px; color: #1d3557;\">\n",
    "  <strong>Giảng viên hướng dẫn:</strong> TS. Bùi Tiến Lên\n",
    "</p>\n"
   ]
  },
  {
   "cell_type": "markdown",
   "metadata": {},
   "source": [
    "<h2 style=\"text-align: left; color: #2a9d8f; font-size: 40px; font-weight: bold;\">📑 Mục lục</h2>\n",
    "<ul style=\"font-size: 22px; color: #1d3557; list-style-type: none; padding-left: 20px;\">\n",
    "    <li style=\"margin: 10px 0;\">\n",
    "        <a href=\"#nongnghiep\" style=\"color: #1d3557; text-decoration: none;\">\n",
    "            <strong>🌾 Nông nghiệp</strong>\n",
    "        </a>\n",
    "    </li>\n",
    "    <li style=\"margin: 10px 0;\">\n",
    "        <a href=\"#Population\" style=\"color: #1d3557; text-decoration: none;\">\n",
    "            <strong>👨‍👩‍👧‍👦 Dân số</strong>\n",
    "        </a>\n",
    "    </li>\n",
    "    <li style=\"margin: 10px 0;\">\n",
    "        <a href=\"#MedicalEducation\" style=\"color: #1d3557; text-decoration: none;\">\n",
    "            <strong>🏥 Y tế, Giáo dục 🎓</strong>\n",
    "        </a>\n",
    "    </li>\n",
    "    <li style=\"margin: 10px 0;\">\n",
    "        <a href=\"#Transportation\" style=\"color: #1d3557; text-decoration: none;\">\n",
    "            <strong>🚗 Giao thông vận tải</strong>\n",
    "        </a>\n",
    "    </li>\n",
    "</ul>\n"
   ]
  },
  {
   "cell_type": "markdown",
   "metadata": {},
   "source": [
    "<h3 id=\"nongnghiep\" style=\"color: #e76f51; font-size: 35px;\">🌾 Nông nghiệp</h3>\n"
   ]
  },
  {
   "cell_type": "markdown",
   "metadata": {},
   "source": [
    "![Alt Text](Image/Sample.png)\n"
   ]
  },
  {
   "cell_type": "markdown",
   "metadata": {},
   "source": [
    "Nhận xét, kể chuyện ...\n"
   ]
  },
  {
   "cell_type": "markdown",
   "metadata": {
    "vscode": {
     "languageId": "plaintext"
    }
   },
   "source": [
    "## 1. Heatmap cho rank của các vùng (số lượng trang trại) theo từng giai đoạn\n",
    "\n",
    "### Biểu đồ\n",
    "\n",
    "<img src=\"./Image/1.png\" alt=\"Hình ảnh mẫu\" style=\"width: 80%;\">\n",
    "\n",
    "### Nhận xét:\n",
    "\n",
    "**Đồng bằng sông Cửu Long từ giai đoạn 2000 - 2015 luôn dẫn đầu cả nước về số lượng trang trại**\n",
    "\n",
    "Lí do:\n",
    "\n",
    "- ĐBSCL là vùng đất phù sa màu mỡ, , ngoài ra còn có hệ thống sông ngòi và kênh rạch dày đặc, cung cấp nguồn nước dồi dào, tạo điều kiện thuận lợi cho nông nghiệp và nuôi trồng thủy sản\n",
    "\n",
    "- Nông sản của ĐBSCL chiếm tỷ trọng lớn trong xuất khẩu của Việt Nam, đặc biệt là gạo, thủy sản, trái cây. Điều này thúc đẩy phát triển các mô hình sản xuất quy mô lớn như trang trại để đáp ứng nhu cầu gia tăng của thị trường thay vì các mô hình quy mô nhỏ như Hộ nông dân tự canh tác, Nuôi trồng thủy sản nhỏ lẻ, Chăn nuôi nhỏ lẻ, …\n",
    "\n",
    "- Thu nhập từ các mô hình trang trại quy mô lớn cao hơn so với sản xuất nhỏ lẻ, khuyến khích người dân chuyển đổi mô hình canh tác\n",
    "\n",
    "- ĐBSCL có quỹ đất nông nghiệp lớn nhất cả nước, thuận lợi cho việc phát triển các trang trại quy mô lớn.\n",
    "\n",
    "**Nhưng sang đến giai đoạn 2016 - 2022, đồng bằng sông Hồng lại vươn lên dẫn đầu cả nước**\n",
    "\n",
    "Lí do:\n",
    "\n",
    "- Đồng bằng sông Hồng, với diện tích đất hạn chế hơn so với ĐBSCL, đã áp dụng mô hình tập trung hóa đất đai bằng cách thuê hoặc gom đất để phát triển trang trại với quy mô lớn\n",
    "\n",
    "- ĐBSH đã chuyển đổi từ canh tác nhỏ lẻ sang mô hình trang trại áp dụng công nghệ cao, hiện đại hóa sản xuất và nâng cao giá trị kinh tế trên mỗi đơn vị diện tích đất.\n",
    "- Hệ thống giao thông, thủy lợi, và điện lưới ở ĐBSH đã được cải thiện, tạo điều kiện thuận lợi cho việc mở rộng và quản lý các trang trại.\n",
    "- Trong khi ĐBSH được đầu tư và phát triển mạnh, ĐBSCL phải đối mặt với nhiều thách thức từ biến đổi khí hậu như nước biển dâng, xâm nhập mặn, và thiếu nước ngọt. Điều này đã làm giảm tốc độ mở rộng và hiệu quả hoạt động của các trang trại tại ĐBSCL.\n",
    "\n",
    "**Tây Bắc Bộ luôn xếp vị trí cuối cùng trong giai đoạn 2000 - 2022**\n",
    "\n",
    "Lí do:\n",
    "\n",
    "- Tây Bắc Bộ có địa hình đồi núi chiếm phần lớn diện tích, gây khó khăn trong việc tập trung hóa đất đai để phát triển các mô hình trang trại quy mô lớn.\n",
    "\n",
    "- Hạ tầng giao thông, thủy lợi, và hệ thống điện ở Tây Bắc Bộ phát triển chậm, gây khó khăn cho việc xây dựng và vận hành các trang trại.\n",
    "\n",
    "- Tây Bắc Bộ có khí hậu khắc nghiệt, mùa đông lạnh kéo dài và mùa hè có mưa lớn dễ gây lũ lụt hoặc sạt lở đất. Điều này ảnh hưởng đến hoạt động chăn nuôi, trồng trọt quy mô lớn.\n",
    "\n",
    "- Phần lớn đất canh tác ở Tây Bắc Bộ thuộc sở hữu hộ gia đình hoặc cộng đồng dân tộc, với diện tích nhỏ lẻ và manh mún. Điều này gây khó khăn cho việc tập trung đất để xây dựng trang trại.\n",
    "\n",
    "- Khu vực này cách xa các trung tâm kinh tế lớn, do đó thị trường khan hiếm, khiến việc tiêu thụ nông sản khó khăn và chi phí vận chuyển cao, làm giảm hiệu quả kinh tế của các trang trại,\n"
   ]
  },
  {
   "cell_type": "markdown",
   "metadata": {},
   "source": [
    "## 2. Tỉ trọng sản lượng lúa, ngô, khoai lang ở các miền thay đổi theo thời gian như thế nào\n",
    "\n",
    "### Sản lượng lúa\n",
    "\n",
    "#### Biểu đồ\n",
    "\n",
    "<img src=\"./Image/2_lua.png\" alt=\"Hình ảnh mẫu\" style=\"width: 80%;\">\n",
    "\n",
    "#### Nhận xét\n",
    "\n",
    "**Nam Bộ dẫn đầu về tỉ trọng qua các giai đoạn**\n",
    "\n",
    "Lí do:\n",
    "\n",
    "- **Đất phù sa màu mỡ:** Đồng bằng sông Cửu Long (ĐBSCL) – khu vực trọng điểm của Nam Bộ – là vùng đất phù sa được bồi đắp hàng năm, rất phù hợp cho canh tác lúa.\n",
    "\n",
    "- **Nguồn nước dồi dào:** Hệ thống sông Mekong và mạng lưới kênh rạch chằng chịt cung cấp nguồn nước tưới phong phú, đặc biệt là vào mùa khô.\n",
    "\n",
    "- **Diện tích đất nông nghiệp lớn nhất cả nước:** ĐBSCL chiếm phần lớn diện tích đất canh tác lúa của Nam Bộ, với hàng triệu hecta dành riêng cho sản xuất lúa.\n",
    "\n",
    "- **Sản xuất tập trung:** Nhiều địa phương như An Giang, Kiên Giang, Đồng Tháp đã hình thành vùng chuyên canh lúa quy mô lớn, giúp tối ưu hóa sản lượng\n",
    "\n",
    "- **Cơ hội thị trường lớn:** Nhu cầu gạo trong nước và quốc tế ngày càng tăng, đặc biệt từ các thị trường lớn như Trung Quốc, Philippines, và châu Phi, đã thúc đẩy Nam Bộ sản xuất lúa gạo với quy mô lớn.\n",
    "\n",
    "- **Giao thông và cảng biển thuận lợi:** Nam Bộ có các cảng lớn như Cần Thơ và TP.HCM, thuận tiện cho việc vận chuyển lúa gạo đến thị trường trong và ngoài nước.\n",
    "\n",
    "Từ đó có thể thấy Nam Bộ không chỉ là \"vựa lúa\" của Việt Nam mà còn giữ vai trò quan trọng trong xuất khẩu gạo quốc tế, góp phần bảo đảm an ninh lương thực và phát triển kinh tế của cả nước.\n"
   ]
  },
  {
   "cell_type": "markdown",
   "metadata": {},
   "source": [
    "### Sản lượng ngô\n",
    "\n",
    "#### Biểu đồ\n",
    "\n",
    "<img src=\"./Image/2_ngo.png\" alt=\"Hình ảnh mẫu\" style=\"width: 80%;\">\n",
    "\n",
    "#### Nhận xét\n",
    "\n",
    "**Bắc Bộ và Trung Bộ có tỉ trọng gần bằng nhau trong giai đoạn 2000 - 2022, Nam Bộ chỉ chiếm tỉ trọng nhỏ, cụ thể trong giai đoạn 2020 - 2022, tỉ trọng của Bắc Bộ và Trung Bộ lần lượt là 45% và 43% còn Nam Bộ là 12%**\n",
    "\n",
    "Lí do:\n",
    "\n",
    "**Điều kiện tự nhiên phù hợp cho cây ngô:**\n",
    "\n",
    "- Bắc Bộ và Trung Bộ:\n",
    "     - Đất đai: Các vùng đất đồi, đất pha cát ở Bắc Bộ (như miền núi phía Bắc) và Trung Bộ (như Tây Nguyên, duyên hải Nam Trung Bộ) thích hợp để trồng ngô.\n",
    "     - Khí hậu: Ngô là cây ưa ánh sáng và có khả năng chịu hạn tốt, phù hợp với khí hậu khô hạn ở Trung Bộ và các vùng trung du miền núi phía Bắc.\n",
    "     - Địa hình đồi núi: Nhiều vùng đồi núi khó canh tác lúa, người dân chuyển sang trồng ngô để tận dụng đất.\n",
    "- Nam Bộ:\n",
    "     - Đất phù sa và hệ thống thủy lợi ở Nam Bộ ưu tiên canh tác lúa, vốn mang lại năng suất và giá trị kinh tế cao hơn. Điều này khiến ngô không phải là cây trồng chủ lực tại khu vực này.\n",
    "\n",
    "**Vai trò của cây ngô trong hệ thống canh tác:**\n",
    "\n",
    "- Bắc Bộ và Trung Bộ:\n",
    "     - Ngô là cây trồng chính trong hệ thống canh tác nương rẫy ở miền núi và trung du.\n",
    "     - Người dân trồng ngô xen kẽ với các cây trồng khác để tận dụng đất và thời vụ, nhất là ở Tây Nguyên và vùng trung du Bắc Bộ.\n",
    "- Nam Bộ:\n",
    "     - Nhu cầu đất dành cho lúa gạo, cây ăn trái và nuôi trồng thủy sản lớn hơn, khiến diện tích trồng ngô bị thu hẹp.\n"
   ]
  },
  {
   "cell_type": "markdown",
   "metadata": {},
   "source": [
    "### Sản lượng khoai lang\n",
    "\n",
    "#### Biểu đồ\n",
    "\n",
    "<img src=\"./Image/2_kl.png\" alt=\"Hình ảnh mẫu\" style=\"width: 80%;\">\n",
    "\n",
    "#### Nhận xét\n",
    "\n",
    "**Bắc Bộ có xu hướng giảm tỉ trọng (2000 - 2003: 48% đến 2020-2022: 27%)**\n",
    "\n",
    "**Nam Bộ có xu hướng tăng tỉ trọng (2000 - 2003: 12% đến 2020-2022: 30%)**\n",
    "\n",
    "Lí do:\n",
    "\n",
    "**Bắc Bộ có xu hướng giảm tỉ trọng**\n",
    "\n",
    "- Chuyển đổi cơ cấu cây trồng: Nông dân Bắc Bộ đã chuyển dần diện tích trồng khoai lang sang trồng các loại cây trồng khác có giá trị kinh tế cao hơn, như rau màu, hoa quả, và cây công nghiệp ngắn ngày.\n",
    "- Biến đổi khí hậu: Bắc Bộ thường xuyên chịu ảnh hưởng của thời tiết cực đoan, như mưa lớn và lạnh kéo dài, gây khó khăn cho việc trồng khoai lang – vốn là cây ưa đất khô ráo và nắng ấm.\n",
    "- Thiếu liên kết sản xuất và thị trường: Việc tiêu thụ khoai lang ở Bắc Bộ chủ yếu ở dạng thô, thiếu chế biến sâu, dẫn đến giá trị kinh tế thấp và không đủ sức cạnh tranh với các loại cây trồng khác.\n",
    "\n",
    "**Nam Bộ có xu hướng tăng tỉ trọng:**\n",
    "\n",
    "- Phát triển vùng chuyên canh khoai lang: Nam Bộ, đặc biệt là Đồng Tháp và Vĩnh Long, đã phát triển các vùng chuyên canh khoai lang lớn, như giống khoai lang tím Nhật – một sản phẩm có giá trị cao trên thị trường nội địa và xuất khẩu.\n",
    "- Nhu cầu xuất khẩu tăng: Khoai lang ở Nam Bộ, đặc biệt giống khoai lang tím Nhật, được xuất khẩu sang các thị trường lớn như Nhật Bản, Hàn Quốc, và Trung Quốc, thúc đẩy sản lượng và diện tích trồng tăng mạnh.\n"
   ]
  },
  {
   "cell_type": "markdown",
   "metadata": {},
   "source": [
    "## 3. So sánh sản lượng lúa, ngô, khoai lang trước dịch 2017 - 2019 và trong dịch 2020 - 2022 ở các vùng\n",
    "\n",
    "### Biểu đồ\n",
    "\n",
    "<img src=\"./Image/3.png\" alt=\"Hình ảnh mẫu\" style=\"width: 80%;\">\n",
    "\n",
    "### Nhận xét\n",
    "\n",
    "- Nhìn chung ở cả 3 loại lương thực, thì sản lượng trước dịch 2017 - 2019 và trong dịch 2020 - 2022 ở cả 8 vùng có xu hướng ổn định, không giảm sâu như dự đoán\n",
    "\n",
    "- Mặc dù trong điều kiện đại dịch, hạn chế di chuyển nhưng việc sản xuất các loại lương thực này vẫn phải được tiếp tục để đảm bảo an ninh lương thực cho cả nước, đặc biệt là lúa\n",
    "\n",
    "- Điều này cho thấy những nỗ lực tuyệt vời trong phòng chống dịch của Việt Nam nhằm cân bằng giữa sản xuất lương thực và công tác chống dịch nhằm duy trì sản xuất lương thực trong những điều kiện dù là khó khăn nhất\n"
   ]
  },
  {
   "cell_type": "markdown",
   "metadata": {},
   "source": [
    "## 4. Biểu đồ Scatter Plot: Quan hệ giữa diện tích nuôi trồng thủy sản và sản lượng thủy sản\n",
    "\n",
    "### Biểu đồ\n",
    "\n",
    "<img src=\"./Image/4.png\" alt=\"Hình ảnh mẫu\" style=\"width: 80%;\">\n",
    "\n",
    "### Nhận xét\n",
    "\n",
    "**Biểu đồ cho thấy mối quan hệ tỉ lệ thuận giữa diện tích nuôi trồng thủy sản và sản lượng thủy sản, khi diện tích nuôi trồng thủy sản tăng thì sản lượng thủy sản có xu hướng tăng**\n",
    "\n",
    "**Với các giá trị diện tích nuôi trồng thủy sản 35,000 ha trở lên, chỉ có các điểm màu cam (thuộc về Nam Bộ)**\n",
    "\n",
    "Lí do:\n",
    "\n",
    "- Hệ thống sông ngòi, kênh rạch chằng chịt: Nam Bộ, đặc biệt là Đồng bằng sông Cửu Long (ĐBSCL), được bao phủ bởi mạng lưới sông ngòi dày đặc, gồm các nhánh của sông Mekong và hệ thống kênh rạch tự nhiên. Đây là nguồn nước lý tưởng cho nuôi trồng thủy sản.\n",
    "\n",
    "- Đất phù hợp:\n",
    "\n",
    "     - Đất phù sa và đất ngập nước ở ĐBSCL rất thích hợp cho việc xây dựng ao, hồ, và đồng ruộng để nuôi thủy sản.\n",
    "     - Các vùng nước lợ ở ven biển Nam Bộ là môi trường lý tưởng để nuôi các loài thủy sản có giá trị kinh tế cao như tôm, cua, và cá.\n",
    "\n",
    "- Khí hậu ổn định: Nam Bộ có khí hậu nhiệt đới gió mùa, ấm áp quanh năm, không có mùa đông lạnh như Bắc Bộ. Điều này giúp nuôi trồng thủy sản diễn ra quanh năm, tối ưu hóa sản lượng.\n",
    "\n",
    "- Đường bờ biển dài: Nam Bộ có bờ biển dài hơn 700 km, với nhiều khu vực ven biển thuận lợi cho nuôi trồng thủy sản nước mặn và nước lợ.\n"
   ]
  },
  {
   "cell_type": "markdown",
   "metadata": {},
   "source": [
    "## 5. Biểu đồ Treemap: Cơ cấu sản lượng trồng cây nông nghiệp giữa các tỉnh\n",
    "\n",
    "### Sản lượng lúa năm 2022\n",
    "\n",
    "#### Biểu đồ\n",
    "\n",
    "<img src=\"./Image/5_lua.png\" alt=\"Hình ảnh mẫu\" style=\"width: 80%;\">\n",
    "\n",
    "#### Nhận xét\n",
    "\n",
    "**Kiên Giang dẫn đầu cả nước với 4,41 triệu tấn**\n",
    "\n",
    "Lí do:\n",
    "\n",
    "- Diện tích canh tác lúa rộng lớn:\n",
    "\n",
    "     - Kiên Giang có diện tích trồng lúa lớn nhất cả nước với hàng triệu hecta, đặc biệt tập trung ở các vùng trọng điểm như Tứ giác Long Xuyên, U Minh Thượng và ven biển Kiên Giang.\n",
    "     - Quy mô đất canh tác lúa rộng giúp tỉnh đạt được sản lượng cao.\n",
    "\n",
    "- Đất đai màu mỡ: Kiên Giang nằm trong vùng Đồng bằng sông Cửu Long (ĐBSCL), được bồi đắp phù sa hàng năm từ hệ thống sông Mekong, rất phù hợp cho canh tác lúa.\n",
    "- Nguồn nước dồi dào: Hệ thống sông ngòi và kênh rạch chằng chịt cùng với các công trình thủy lợi giúp cung cấp nguồn nước tưới tiêu ổn định, ngay cả trong mùa khô.\n",
    "- Khí hậu ổn định: Khí hậu nhiệt đới ôn hòa của Kiên Giang, với nhiệt độ trung bình cao và ít chịu ảnh hưởng của thiên tai, là điều kiện lý tưởng để sản xuất lúa 2–3 vụ mỗi năm\n",
    "- Kiên Giang đã áp dụng các giống lúa có năng suất cao, chất lượng tốt và chống chịu sâu bệnh, phù hợp với điều kiện đất đai và khí hậu địa phương.\n",
    "- Các doanh nghiệp thu mua, chế biến và xuất khẩu lúa gạo có liên kết chặt chẽ với nông dân, đảm bảo đầu ra ổn định, thúc đẩy sản xuất lúa gạo quy mô lớn.\n",
    "- Kiên Giang đã triển khai các mô hình cánh đồng mẫu lớn, với diện tích tập trung, giúp đồng bộ hóa kỹ thuật canh tác, giảm chi phí và tăng năng suất.\n"
   ]
  },
  {
   "cell_type": "markdown",
   "metadata": {},
   "source": [
    "### Sản lượng ngô năm 2022\n",
    "\n",
    "#### Biểu đồ\n",
    "\n",
    "<img src=\"./Image/5_ngo.png\" alt=\"Hình ảnh mẫu\" style=\"width: 80%;\">\n",
    "\n",
    "### Sản lượng khoai lang năm 2022\n",
    "\n",
    "#### Biểu đồ\n",
    "\n",
    "<img src=\"./Image/5_kl.png\" alt=\"Hình ảnh mẫu\" style=\"width: 80%;\">\n",
    "\n",
    "#### **Nhận xét cho cả ngô và khoai lang**\n",
    "\n",
    "- Đắk Lak dẫn đầu cả nước với lần lượt là 0.5 triệu tấn (**ngô**) và 0.14 triệu tấn (**khoai lang**)\n",
    "\n",
    "**Lí do:**\n",
    "\n",
    "- **Đối với ngô:**\n",
    "\n",
    "     - Đất đỏ bazan màu mỡ: Đắk Lắk có diện tích đất đỏ bazan lớn, rất giàu dinh dưỡng và thoát nước tốt, là môi trường lý tưởng cho cây ngô phát triển.\n",
    "     - Khí hậu phù hợp: Khí hậu Tây Nguyên có hai mùa rõ rệt (mùa mưa và mùa khô) với nhiệt độ ổn định, thuận lợi cho ngô phát triển trong các vụ khác nhau.\n",
    "\n",
    "- **Đối với khoai lang:**\n",
    "\n",
    "     - Đất pha cát và đất xốp: Đắk Lắk có nhiều vùng đất phù hợp cho khoai lang, đặc biệt là đất pha cát và đất đỏ, giúp củ khoai phát triển to, đều và chất lượng cao.\n",
    "     - Khả năng chịu hạn: Cả ngô và khoai lang đều là cây trồng chịu hạn tốt, thích hợp với mùa khô kéo dài ở Đắk Lắk.\n",
    "\n",
    "- **Thị trường tiêu thụ lớn và ổn định:**\n",
    "\n",
    "     - Nhu cầu ngô làm thức ăn chăn nuôi: Ngô của Đắk Lắk được tiêu thụ mạnh bởi các nhà máy chế biến thức ăn chăn nuôi ở khu vực miền Trung và miền Nam.\n",
    "     - Xuất khẩu khoai lang: Khoai lang Đắk Lắk, đặc biệt giống khoai tím Nhật, có giá trị cao và được xuất khẩu sang các thị trường lớn như Nhật Bản, Hàn Quốc và Trung Quốc.\n"
   ]
  },
  {
   "cell_type": "markdown",
   "metadata": {},
   "source": [
    "<h3 id=\"Population\" style=\"color: #e76f51; font-size: 40px;\">👨‍👩‍👧‍👦 Dân số</h3>\n"
   ]
  },
  {
   "cell_type": "markdown",
   "metadata": {},
   "source": [
    "## 1. Mật độ dân số của nước ta năm 2022\n"
   ]
  },
  {
   "cell_type": "markdown",
   "metadata": {},
   "source": [
    "### Biểu đồ\n",
    "\n",
    "<img src=\"./Image/TL - 1.png\" alt =\"Hinhanh1\" style=\"width: 80%\">\n",
    "\n",
    "### Nhận xét\n",
    "\n",
    "**Dân cư phân bố không đồng đều giữa các địa phương**\n",
    "\n",
    "#### Miền Bắc\n",
    "\n",
    "- Các tỉnh có mật độ dân số cao nằm ở đồng bằng sông Hồng, đặc biệt là Hà Nội với mật độ 2.511 nghìn người trên km2. Giải thích điều trên:\n",
    "     - Điều kiện tự nhiên thuận lợi như địa hình bằng phẳng, đất đai màu mỡ nhờ phù sa từ hệ thống sông Hồng tạo điều kiện thuận lợi cho sản xuất nông nghiệp.\n",
    "     - Đồng bằng được khai thác lâu đời, là cái nôi của nền văn minh lúa nước.\n",
    "     - Là một trong những trung tâm kinh tế nước ta, cơ sở hạ tầng phát triển giúp thu hút lao động từ các khu vực khác.\n",
    "- Các tỉnh ở vùng Tây Bắc có mật độ dân số thấp hơn nhiều. Lý do là:\n",
    "     - Có địa hình núi cao hiểm trở, đất đai mang đặc điểm của miền núi, cao nguyên gây nhiều khó khăn cho cuộc sống và các hoạt động kinh tế - xã hội.\n",
    "     - Cơ sở hạ tầng, cơ sở vật chất kĩ thuật kém phát triển (nhất là giao thông vận tải) từ đó gây khó khăn cho việc phát triển kinh tế dẫn đến không thu hút được lao động.\n",
    "\n",
    "#### Miền Trung\n",
    "\n",
    "- Đối với các tỉnh giáp biển, mật độ dân số trung bình, tập trung chủ yếu ở các tỉnh như Thanh Hóa, Nha Trang, Đà Nẵng . Các lý do đó là:\n",
    "     - Địa hình hẹp và dài do nằm giữa núi và biển, giới hạn diện tích đất đai. Điều kiện thời tiết khắc nghiệt do bão, lũ gây khó khăn cho đời sống và sản xuất. Đất đai không màu mỡ.\n",
    "     - Cơ sở hạ tầng chưa đồng bộ, phát triển kinh tế không đồng đều.\n",
    "- Đối với các tỉnh Tây Nguyên, mật độ dân số thấp hơn. Nguyên nhân là vì:\n",
    "     - Địa hình - đất đai mang tính chất miền núi, cao nguyên rộng lớn, rừng còn nhiều, địa hình khá hiểm trở chưa được khai thác nhiều.\n",
    "     - Là nơi cư trú của phần lớn các dân tộc ít người.\n",
    "     - Cơ sở vật chất và cơ sở hạ tầng chưa phát triển.\n",
    "\n",
    "#### Miền Nam\n",
    "\n",
    "- Các tỉnh ở phía Nam, nhìn chung có mật độ dân số cao hơn so với các khu vực khác đặc biệt là Thành phố Hồ Chí Minh với mật độ là 4.481 nghìn người trên km2. Cao nhất cả nước. Lý do là:\n",
    "     - Ở đây có Đông Nam Bộ là trung tâm công nghiệp, dịch vụ và thương mại hàng đầu Việt Nam và Đồng bằng sông Cửu Long, là vùng đồng bằng lớn nhất Việt Nam, đất đai màu mỡ rất phù hợp để phát triển nông nghiệp.\n"
   ]
  },
  {
   "cell_type": "markdown",
   "metadata": {},
   "source": [
    "## 2. Tình hình phát triển dân số của nước ta từ năm 2000-2022 và tác động của sự phát triển đó đến giáo dục và y tế của nước ta.\n"
   ]
  },
  {
   "cell_type": "markdown",
   "metadata": {},
   "source": [
    "### Biểu đồ\n",
    "\n",
    "<img src=\"./Image/TL-2a.png\" style=\"width: 80%\">\n",
    "\n",
    "### Nhận xét\n",
    "\n",
    "#### Về tình hình phát triển dân số của nước ta từ năm 2000-2022\n",
    "\n",
    "- Dân số nước ta từ 2000-2022 tăng nhanh, tỉ lệ gia tăng dân số có xu hướng giảm cụ thể mặc dù dân số tăng nhưng số người tăng mỗi năm vẫn khoảng 1 triệu người nên tỉ lệ gia tăng dân số giảm. Lý do là bởi:\n",
    "     - Do dân số nước ta đông và quy mô dân số lớn\n",
    "     - Cơ cấu dân số có nhiều dân số trẻ và đang nằm trong độ tuổi sinh nở;\n",
    "     - Các chính sách kế hoạch hóa gia đình và sự cải thiện về chăm sóc sức khỏe, giáo dục và kinh tế tác động đến tỉ lệ gia tăng dân số\n",
    "\n",
    "#### Về tác động của việc phát triển dân số đến giáo dục của nước ta từ năm 2000-2022\n",
    "\n",
    "- Trong giai đoạn 2000-2002, số lượng các trường học không có dấu hiệu tăng từ đó có thể làm ảnh hưởng đến sĩ số lớp, làm cho các trường học bị quá tải.\n",
    "- Trong giai đoạn 2002-2018, số lượng các trường học tăng khá nhanh đặc biệt là trường tiểu học, THCS, THPT điều đó đáp ứng được việc tăng số lượng dân số trong độ tuổi đi học. Ngoài ra do nhà nước mở rộng quy mô giáo dục, đầu tư xây dựng cơ sở vật chất mở rộng mạng lưới trường học, đặc biệt là ở vùng nông thôn, miền núi.\n",
    "- Trong giai đoạn 2019-2022, số lượng trường THPT có xu hướng giữ nguyên trong khi đó số lượng trường tiểu học và trường THCS lại giảm đột ngột ở năm 2019 và giảm dần qua các năm sau. Nguyên nhân chính là do nhiều địa phương đã tiến hành sát nhập các trường có quy mô nhỏ hoặc không đáp ứng đủ điều kiện cơ sở vật chất và nhân lực.\n",
    "- Biểu đồ cho thấy mối quan hệ mật thiết giữa dân số và số lượng trường học. Giai đoạn 2002-2018 là thời kỳ phát triển mạnh mẽ về giáo dục, với sự gia tăng số lượng trường học đáp ứng tốt nhu cầu dân số. Sau 2018, dù số lượng giảm nhẹ, hệ thống giáo dục vẫn giữ được sự ổn định, chứng minh hiệu quả của các chính sách quy hoạch và phát triển bền vững của nước ta.\n",
    "\n",
    "<img src =\"./Image/TL-2b.png\" style = \"width: 80%\">\n",
    "\n",
    "#### Về tác động của việc phát triển dân số đến y tế của nước ta từ năm 2000-2022\n",
    "\n",
    "- Trong giai đoạn 2000-2018, số lượng bệnh viện và trạm y tế có xu hướng tăng và trạm y tế tăng nhanh hơn. Nguyên nhân là vì chính sách chú trọng phát triển y tế cơ sở, chi phí xây dựng thấp, khả năng đáp ứng nhanh nhu cầu dân số tăng, vai trò quan trọng trong chăm sóc sức khỏe cộng đồng và phòng chống dịch bệnh. Trong khi đó, bệnh viện phát triển với tốc độ chậm hơn do yêu cầu nguồn lực lớn và tập trung vào chất lượng dịch vụ y tế chuyên sâu.\n",
    "- Trong giai đoạn 2019-2022, số lượng bệnh viện và trạm y tế bị giảm ở năm 2018 và lại tăng dần ở các năm sau này. Lý do:\n",
    "     - Chính phủ hoặc các cơ quan chức năng có thể đã tiến hành việc tinh gọn, cải cách hoặc sắp xếp lại các cơ sở y tế để tăng hiệu quả hoạt động. Điều này có thể bao gồm việc đóng cửa hoặc hợp nhất một số bệnh viện và trạm y tế kém hiệu quả hoặc không đáp ứng được yêu cầu về chất lượng dịch vụ.\n",
    "     - Vào năm 2020, Việt Nam bùng phát đại dịch Covid-19, để thích ứng điều này, nước ta xây dựng thêm trạm y tế và bệnh viện nhằm đáp ứng nhu cầu phòng chống dịch bệnh.\n",
    "- Biểu đồ cho hấy mối quan hệ giữa dân số và số lượng bệnh viện, trạm y tế. Chứng minh được sự ổn định và hiệu quả về chính sách y tế ở nước ta\n"
   ]
  },
  {
   "cell_type": "markdown",
   "metadata": {},
   "source": [
    "## 3. Sự biến động về giới tính và tình hình đô thị hóa ở Việt Nam đang phát triển như thế nào?\n"
   ]
  },
  {
   "cell_type": "markdown",
   "metadata": {},
   "source": [
    "#### Biểu đồ\n",
    "\n",
    "<img src=\"./Image/TL-3a.png\" style=\"width: 80%\">\n",
    "\n",
    "#### Nhận xét về giới tính\n",
    "\n",
    "- Từ năm 2000-2022, sự chênh lệch giới tính giữa các miền không quá lớn và như nhau. tuy nhiên xu hướng tỉ lệ giới nam tăng, nữ giảm. Nguyên nhân do là do áp lực giảm sinh, mỗi cặp vợ chồng chỉ sinh 1-2 con nhưng phải có con trai nên đã sử dụng các dịch vụ lựa chọn giới tính thai nhi; do nhu cầu kinh tế, điều kiện lao động thủ công làm nhiều công việc nặng nhọc trong các ngành nông - lâm - ngư nghiệp, khai thác khoáng sản, đi biển đánh bắt xa bờ,... đòi hỏi sức lao động cơ bắp của con trai và con trai là trụ cột về kinh tế là sự bảo đảm bình yên cho cả gia đình; do gần 70% dân số nước ta còn sống ở nông thôn, hầu hết không có lương hưu khi về già và trách nhiệm phụng dưỡng chủ yếu thuộc về con trai…\n",
    "\n",
    "<img src=\"./Image/TL-3b.png\" style=\"width: 80%\">\n",
    "#### Nhận xét về đô thị hóa\n",
    "- Từ năm 2000-2022, cả nước ta dân số thành thị đều tăng rất nhanh. Nguyên nhân là vì di cư từ nông thôn ra thành thị tìm kiếm việc làm, cải thiện cơ sở hạ tầng và giao thông, phát triển mạnh các ngành công nghiệp và dịch vụ, nâng cao chất lượng sống ở thành phố, chính sách phát triển đô thị của chính phủ, và tăng trưởng kinh tế cùng hội nhập quốc tế tạo ra nhiều cơ hội việc làm.\n",
    "- Trong đó, miền Nam có tỉ lệ dân số thành thị cao hơn so với các miền còn lại. Lý do là vì kinh tế phát triển mạnh, tập trung nhiều khu công nghiệp, chính sách thu hút đầu tư, cơ sở hạ tầng giao thông tốt, và sự đa dạng cơ hội nghề nghiệp, đặc biệt là tại TP.HCM và các thành phố lớn khác.\n"
   ]
  },
  {
   "cell_type": "markdown",
   "metadata": {},
   "source": [
    "<h3 id=\"MedicalEducation\" style=\"color: #e76f51; font-size: 40px;\">🏥 Y tế, Giáo dục 🎓</h3>\n"
   ]
  },
  {
   "cell_type": "markdown",
   "metadata": {},
   "source": [
    "## 1. Mối quan hệ giữa giáo viên và học sinh\n",
    "\n",
    "<img src=\"./Image/mqh_gv_hs.png\" alt=\"Hình ảnh mẫu\" style=\"width: 80%;\">\n",
    "\n",
    "## 2. Cơ sở y tế trên cơ sở giáo dục\n",
    "\n",
    "<img src=\"./Image/csyt_gd.png\" alt=\"Hình ảnh mẫu\" style=\"width: 80%;\">\n"
   ]
  },
  {
   "cell_type": "markdown",
   "metadata": {},
   "source": [
    "<h3 id=\"Transportation\" style=\"color: #e76f51; font-size: 40px;\">🚗 Giao thông vận tải</h3>\n"
   ]
  },
  {
   "cell_type": "markdown",
   "metadata": {},
   "source": [
    "## 1. Tình hình vận chuyển khách trong từng tỉnh\n"
   ]
  },
  {
   "cell_type": "markdown",
   "metadata": {},
   "source": [
    "### Biểu đồ\n",
    "\n",
    "<img src=\"./Image/41.png\" alt=\"Hình ảnh mẫu\" style=\"width: 80%;\">\n",
    "\n",
    "### Nhận xét\n",
    "\n",
    "**Tỉnh Quảng Ninh có tỷ lệ lượt vận chuyển hành khách cao nhất, đạt mức 0.4018.**\n",
    "\n",
    "**Lý do:**\n",
    "\n",
    "- **Lợi thế địa lý:**\n",
    "\n",
    "     - Quảng Ninh nằm trong khu vực cửa ngõ phía Bắc, là điểm kết nối giữa Việt Nam và Trung Quốc, thuận lợi cho giao thông quốc tế và nội địa.\n",
    "     - Hạ Long – trung tâm du lịch nổi tiếng của Quảng Ninh – thu hút hàng triệu du khách mỗi năm, làm tăng nhu cầu vận chuyển hành khách.\n",
    "\n",
    "- **Hệ thống giao thông phát triển:**\n",
    "\n",
    "     - Cơ sở hạ tầng giao thông hiện đại, bao gồm cảng hàng không Vân Đồn, các cảng biển lớn và đường cao tốc kết nối với Hà Nội, Hải Phòng.\n",
    "     - Các tuyến xe khách liên tỉnh, nội tỉnh và quốc tế hoạt động mạnh mẽ.\n",
    "\n",
    "- **Du lịch và dịch vụ:**\n",
    "\n",
    "     - Quảng Ninh là trung tâm du lịch lớn với các địa điểm nổi tiếng như vịnh Hạ Long, khu di tích Yên Tử, thu hút cả khách nội địa và quốc tế.\n",
    "     - Các dịch vụ vận chuyển du lịch được đầu tư mạnh, với các loại hình vận chuyển như tàu cao tốc, du thuyền, và xe du lịch.\n",
    "\n",
    "- **Dân cư và kinh tế:**\n",
    "     - Dân số đông và nền kinh tế phát triển thúc đẩy nhu cầu vận chuyển, nhất là với các hoạt động kinh doanh và giao lưu văn hóa.\n",
    "\n",
    "**Phân bố tỷ lệ vận chuyển hành khách trên cả nước:**\n",
    "\n",
    "- Các tỉnh ven biển, đặc biệt khu vực miền Trung và miền Bắc, có tỷ lệ vận chuyển cao nhờ vào lợi thế du lịch và giao thương.\n",
    "- Một số tỉnh miền núi phía Bắc và Tây Nguyên có tỷ lệ thấp hơn do địa hình phức tạp và cơ sở hạ tầng giao thông hạn chế.\n"
   ]
  },
  {
   "cell_type": "markdown",
   "metadata": {},
   "source": [
    "# 2. Phân bố lượt luân chuyển khối lượng hàng hóa trong từng tỉnh\n"
   ]
  },
  {
   "cell_type": "markdown",
   "metadata": {},
   "source": [
    "### Biểu đồ\n",
    "\n",
    "<img src=\"./Image/42.png\" alt=\"Hình ảnh mẫu\" style=\"width: 80%;\">\n",
    "\n",
    "### Nhận xét\n",
    "\n",
    "**Thành phố Hải Phòng dẫn đầu cả nước về khối lượng luân chuyển hàng hóa, đạt mức cao nhất trên bản đồ.**\n",
    "\n",
    "**Lý do:**\n",
    "\n",
    "- **Vị trí chiến lược:**\n",
    "\n",
    "     - Hải Phòng là cửa ngõ giao thương quan trọng phía Bắc, có cảng biển lớn nhất khu vực, kết nối trực tiếp với các tuyến hàng hải quốc tế.\n",
    "     - Nằm gần các khu vực kinh tế trọng điểm như Hà Nội, Quảng Ninh và các tỉnh đồng bằng sông Hồng.\n",
    "\n",
    "- **Cơ sở hạ tầng hiện đại:**\n",
    "\n",
    "     - Hệ thống cảng biển hiện đại như cảng Lạch Huyện và cảng Đình Vũ, có khả năng tiếp nhận tàu hàng lớn.\n",
    "     - Hạ tầng giao thông đồng bộ, bao gồm đường bộ, đường sắt, và sân bay, giúp thúc đẩy vận chuyển hàng hóa nhanh chóng.\n",
    "\n",
    "- **Hoạt động công nghiệp và thương mại phát triển:**\n",
    "\n",
    "     - Hải Phòng có nhiều khu công nghiệp lớn như Đình Vũ - Cát Hải, Tràng Duệ, thu hút nhiều doanh nghiệp sản xuất và xuất khẩu.\n",
    "     - Khối lượng hàng hóa từ các khu công nghiệp và các nhà máy xuất khẩu tập trung lớn tại khu vực này.\n",
    "\n",
    "- **Hỗ trợ chính sách và đầu tư:**\n",
    "     - Chính quyền thành phố đã tập trung đầu tư và thu hút nguồn vốn vào cơ sở hạ tầng logistics.\n",
    "     - Hải Phòng có các chính sách khuyến khích và hỗ trợ doanh nghiệp vận chuyển hàng hóa xuất nhập khẩu.\n",
    "\n",
    "**Phân bố khối lượng hàng hóa trên cả nước:**\n",
    "\n",
    "- Các tỉnh ven biển như Hải Phòng, Quảng Ninh, và Bà Rịa - Vũng Tàu có khối lượng luân chuyển hàng hóa cao nhờ cảng biển lớn và hoạt động thương mại quốc tế sôi động.\n",
    "- Các tỉnh miền núi và nội địa có khối lượng thấp hơn do hạn chế về cơ sở hạ tầng và nhu cầu vận chuyển.\n"
   ]
  },
  {
   "cell_type": "markdown",
   "metadata": {},
   "source": [
    "# 3. Tình hình phát triển giao thông vận tải tại ba khu vực Việt Nam\n"
   ]
  },
  {
   "cell_type": "markdown",
   "metadata": {},
   "source": [
    "### Biểu đồ\n",
    "\n",
    "<img src=\"./Image/43.png\" alt=\"Hình ảnh mẫu\" style=\"width: 80%;\">\n",
    "\n",
    "#### Nhận xét\n",
    "\n",
    "**Bắc Bộ có mức tăng trưởng ấn tượng về khối lượng luân chuyển và vận chuyển hàng hóa, dẫn đầu cả nước.**\n",
    "\n",
    "**Lý do:**\n",
    "\n",
    "- **Vị trí địa lý chiến lược:**\n",
    "\n",
    "     - Bắc Bộ là trung tâm kinh tế, chính trị lớn của cả nước, đặc biệt với Hà Nội là thủ đô và Hải Phòng là cửa ngõ giao thương quốc tế.\n",
    "     - Kết nối dễ dàng với các vùng kinh tế trọng điểm như đồng bằng sông Hồng và Đông Bắc.\n",
    "\n",
    "- **Cơ sở hạ tầng hiện đại:**\n",
    "\n",
    "     - Hệ thống cảng biển lớn như cảng Hải Phòng và cảng Cái Lân giúp thúc đẩy vận chuyển hàng hóa quốc tế.\n",
    "     - Hạ tầng giao thông đồng bộ, bao gồm đường bộ, đường sắt và các tuyến cao tốc trọng yếu kết nối toàn khu vực.\n",
    "\n",
    "- **Hoạt động công nghiệp phát triển:**\n",
    "\n",
    "     - Bắc Bộ tập trung nhiều khu công nghiệp lớn như Quang Minh, Bắc Ninh, và Thái Nguyên, góp phần gia tăng khối lượng hàng hóa luân chuyển.\n",
    "     - Các sản phẩm xuất khẩu chủ yếu từ khu vực này bao gồm điện tử, máy móc và hàng tiêu dùng.\n",
    "\n",
    "- **Chính sách hỗ trợ:**\n",
    "     - Chính quyền địa phương và trung ương đã chú trọng đầu tư vào các dự án logistics và giao thông vận tải.\n",
    "\n",
    "**Phân bố khối lượng hàng hóa trên cả nước:**\n",
    "\n",
    "- Miền Bắc có khối lượng hàng hóa luân chuyển cao nhất, nhờ vào cảng biển và hạ tầng đồng bộ.\n",
    "- Miền Nam tập trung vào vận chuyển nội địa và xuất khẩu, đặc biệt qua các cảng tại TP. Hồ Chí Minh và Bà Rịa - Vũng Tàu.\n",
    "- Miền Trung có khối lượng hàng hóa thấp hơn, nhưng vẫn đóng vai trò quan trọng trong luân chuyển hàng hóa giữa Bắc và Nam.\n"
   ]
  }
 ],
 "metadata": {
  "kernelspec": {
   "display_name": "Python 3",
   "language": "python",
   "name": "python3"
  },
  "language_info": {
   "codemirror_mode": {
    "name": "ipython",
    "version": 3
   },
   "file_extension": ".py",
   "mimetype": "text/x-python",
   "name": "python",
   "nbconvert_exporter": "python",
   "pygments_lexer": "ipython3",
   "version": "3.12.5"
  }
 },
 "nbformat": 4,
 "nbformat_minor": 2
}
